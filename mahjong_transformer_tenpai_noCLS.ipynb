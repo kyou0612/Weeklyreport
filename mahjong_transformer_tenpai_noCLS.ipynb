{
  "cells": [
    {
      "cell_type": "markdown",
      "metadata": {
        "id": "view-in-github",
        "colab_type": "text"
      },
      "source": [
        "<a href=\"https://colab.research.google.com/github/kyou0612/Weeklyreport/blob/main/mahjong_transformer_tenpai_noCLS.ipynb\" target=\"_parent\"><img src=\"https://colab.research.google.com/assets/colab-badge.svg\" alt=\"Open In Colab\"/></a>"
      ]
    },
    {
      "cell_type": "code",
      "execution_count": null,
      "metadata": {
        "id": "f4YUZzlwFPeJ"
      },
      "outputs": [],
      "source": [
        ""
      ]
    },
    {
      "cell_type": "markdown",
      "metadata": {
        "id": "_74-oaeTte67"
      },
      "source": [
        "# 麻雀テンパイ予測 with Vision Transformer\n",
        "\n",
        "**Author:** 俺様<br>\n",
        "**Date created:** 2021/08/26<br>\n",
        "**Last modified:** 2021/08/26<br>\n",
        "**Description:** "
      ]
    },
    {
      "cell_type": "markdown",
      "metadata": {
        "id": "BArYz9SBte6-"
      },
      "source": [
        "## Setup"
      ]
    },
    {
      "cell_type": "code",
      "execution_count": null,
      "metadata": {
        "colab": {
          "base_uri": "https://localhost:8080/"
        },
        "id": "dw6nmtLCfB1Z",
        "outputId": "e4de0401-d3d0-40e5-d3c0-4a2185eb5b0f"
      },
      "outputs": [
        {
          "output_type": "stream",
          "name": "stdout",
          "text": [
            "Mounted at /content/drive\n"
          ]
        }
      ],
      "source": [
        "from google.colab import drive\n",
        "drive.mount('/content/drive')"
      ]
    },
    {
      "cell_type": "code",
      "execution_count": null,
      "metadata": {
        "colab": {
          "base_uri": "https://localhost:8080/"
        },
        "id": "DRtYnSxEulQv",
        "outputId": "539614be-4e27-4d03-92ed-4495477709af"
      },
      "outputs": [
        {
          "output_type": "stream",
          "name": "stdout",
          "text": [
            "Collecting tensorflow-addons\n",
            "  Downloading tensorflow_addons-0.15.0-cp37-cp37m-manylinux_2_12_x86_64.manylinux2010_x86_64.whl (1.1 MB)\n",
            "\u001b[?25l\r\u001b[K     |▎                               | 10 kB 26.4 MB/s eta 0:00:01\r\u001b[K     |▋                               | 20 kB 30.8 MB/s eta 0:00:01\r\u001b[K     |▉                               | 30 kB 20.6 MB/s eta 0:00:01\r\u001b[K     |█▏                              | 40 kB 17.4 MB/s eta 0:00:01\r\u001b[K     |█▌                              | 51 kB 10.5 MB/s eta 0:00:01\r\u001b[K     |█▊                              | 61 kB 11.3 MB/s eta 0:00:01\r\u001b[K     |██                              | 71 kB 10.4 MB/s eta 0:00:01\r\u001b[K     |██▍                             | 81 kB 11.5 MB/s eta 0:00:01\r\u001b[K     |██▋                             | 92 kB 9.2 MB/s eta 0:00:01\r\u001b[K     |███                             | 102 kB 9.9 MB/s eta 0:00:01\r\u001b[K     |███▎                            | 112 kB 9.9 MB/s eta 0:00:01\r\u001b[K     |███▌                            | 122 kB 9.9 MB/s eta 0:00:01\r\u001b[K     |███▉                            | 133 kB 9.9 MB/s eta 0:00:01\r\u001b[K     |████▏                           | 143 kB 9.9 MB/s eta 0:00:01\r\u001b[K     |████▍                           | 153 kB 9.9 MB/s eta 0:00:01\r\u001b[K     |████▊                           | 163 kB 9.9 MB/s eta 0:00:01\r\u001b[K     |█████                           | 174 kB 9.9 MB/s eta 0:00:01\r\u001b[K     |█████▎                          | 184 kB 9.9 MB/s eta 0:00:01\r\u001b[K     |█████▋                          | 194 kB 9.9 MB/s eta 0:00:01\r\u001b[K     |█████▉                          | 204 kB 9.9 MB/s eta 0:00:01\r\u001b[K     |██████▏                         | 215 kB 9.9 MB/s eta 0:00:01\r\u001b[K     |██████▌                         | 225 kB 9.9 MB/s eta 0:00:01\r\u001b[K     |██████▊                         | 235 kB 9.9 MB/s eta 0:00:01\r\u001b[K     |███████                         | 245 kB 9.9 MB/s eta 0:00:01\r\u001b[K     |███████▍                        | 256 kB 9.9 MB/s eta 0:00:01\r\u001b[K     |███████▋                        | 266 kB 9.9 MB/s eta 0:00:01\r\u001b[K     |████████                        | 276 kB 9.9 MB/s eta 0:00:01\r\u001b[K     |████████▎                       | 286 kB 9.9 MB/s eta 0:00:01\r\u001b[K     |████████▌                       | 296 kB 9.9 MB/s eta 0:00:01\r\u001b[K     |████████▉                       | 307 kB 9.9 MB/s eta 0:00:01\r\u001b[K     |█████████                       | 317 kB 9.9 MB/s eta 0:00:01\r\u001b[K     |█████████▍                      | 327 kB 9.9 MB/s eta 0:00:01\r\u001b[K     |█████████▊                      | 337 kB 9.9 MB/s eta 0:00:01\r\u001b[K     |██████████                      | 348 kB 9.9 MB/s eta 0:00:01\r\u001b[K     |██████████▎                     | 358 kB 9.9 MB/s eta 0:00:01\r\u001b[K     |██████████▋                     | 368 kB 9.9 MB/s eta 0:00:01\r\u001b[K     |██████████▉                     | 378 kB 9.9 MB/s eta 0:00:01\r\u001b[K     |███████████▏                    | 389 kB 9.9 MB/s eta 0:00:01\r\u001b[K     |███████████▌                    | 399 kB 9.9 MB/s eta 0:00:01\r\u001b[K     |███████████▊                    | 409 kB 9.9 MB/s eta 0:00:01\r\u001b[K     |████████████                    | 419 kB 9.9 MB/s eta 0:00:01\r\u001b[K     |████████████▍                   | 430 kB 9.9 MB/s eta 0:00:01\r\u001b[K     |████████████▋                   | 440 kB 9.9 MB/s eta 0:00:01\r\u001b[K     |█████████████                   | 450 kB 9.9 MB/s eta 0:00:01\r\u001b[K     |█████████████▎                  | 460 kB 9.9 MB/s eta 0:00:01\r\u001b[K     |█████████████▌                  | 471 kB 9.9 MB/s eta 0:00:01\r\u001b[K     |█████████████▉                  | 481 kB 9.9 MB/s eta 0:00:01\r\u001b[K     |██████████████                  | 491 kB 9.9 MB/s eta 0:00:01\r\u001b[K     |██████████████▍                 | 501 kB 9.9 MB/s eta 0:00:01\r\u001b[K     |██████████████▊                 | 512 kB 9.9 MB/s eta 0:00:01\r\u001b[K     |███████████████                 | 522 kB 9.9 MB/s eta 0:00:01\r\u001b[K     |███████████████▎                | 532 kB 9.9 MB/s eta 0:00:01\r\u001b[K     |███████████████▋                | 542 kB 9.9 MB/s eta 0:00:01\r\u001b[K     |███████████████▉                | 552 kB 9.9 MB/s eta 0:00:01\r\u001b[K     |████████████████▏               | 563 kB 9.9 MB/s eta 0:00:01\r\u001b[K     |████████████████▌               | 573 kB 9.9 MB/s eta 0:00:01\r\u001b[K     |████████████████▊               | 583 kB 9.9 MB/s eta 0:00:01\r\u001b[K     |█████████████████               | 593 kB 9.9 MB/s eta 0:00:01\r\u001b[K     |█████████████████▍              | 604 kB 9.9 MB/s eta 0:00:01\r\u001b[K     |█████████████████▋              | 614 kB 9.9 MB/s eta 0:00:01\r\u001b[K     |██████████████████              | 624 kB 9.9 MB/s eta 0:00:01\r\u001b[K     |██████████████████▏             | 634 kB 9.9 MB/s eta 0:00:01\r\u001b[K     |██████████████████▌             | 645 kB 9.9 MB/s eta 0:00:01\r\u001b[K     |██████████████████▉             | 655 kB 9.9 MB/s eta 0:00:01\r\u001b[K     |███████████████████             | 665 kB 9.9 MB/s eta 0:00:01\r\u001b[K     |███████████████████▍            | 675 kB 9.9 MB/s eta 0:00:01\r\u001b[K     |███████████████████▊            | 686 kB 9.9 MB/s eta 0:00:01\r\u001b[K     |████████████████████            | 696 kB 9.9 MB/s eta 0:00:01\r\u001b[K     |████████████████████▎           | 706 kB 9.9 MB/s eta 0:00:01\r\u001b[K     |████████████████████▋           | 716 kB 9.9 MB/s eta 0:00:01\r\u001b[K     |████████████████████▉           | 727 kB 9.9 MB/s eta 0:00:01\r\u001b[K     |█████████████████████▏          | 737 kB 9.9 MB/s eta 0:00:01\r\u001b[K     |█████████████████████▌          | 747 kB 9.9 MB/s eta 0:00:01\r\u001b[K     |█████████████████████▊          | 757 kB 9.9 MB/s eta 0:00:01\r\u001b[K     |██████████████████████          | 768 kB 9.9 MB/s eta 0:00:01\r\u001b[K     |██████████████████████▎         | 778 kB 9.9 MB/s eta 0:00:01\r\u001b[K     |██████████████████████▋         | 788 kB 9.9 MB/s eta 0:00:01\r\u001b[K     |███████████████████████         | 798 kB 9.9 MB/s eta 0:00:01\r\u001b[K     |███████████████████████▏        | 808 kB 9.9 MB/s eta 0:00:01\r\u001b[K     |███████████████████████▌        | 819 kB 9.9 MB/s eta 0:00:01\r\u001b[K     |███████████████████████▉        | 829 kB 9.9 MB/s eta 0:00:01\r\u001b[K     |████████████████████████        | 839 kB 9.9 MB/s eta 0:00:01\r\u001b[K     |████████████████████████▍       | 849 kB 9.9 MB/s eta 0:00:01\r\u001b[K     |████████████████████████▊       | 860 kB 9.9 MB/s eta 0:00:01\r\u001b[K     |█████████████████████████       | 870 kB 9.9 MB/s eta 0:00:01\r\u001b[K     |█████████████████████████▎      | 880 kB 9.9 MB/s eta 0:00:01\r\u001b[K     |█████████████████████████▋      | 890 kB 9.9 MB/s eta 0:00:01\r\u001b[K     |█████████████████████████▉      | 901 kB 9.9 MB/s eta 0:00:01\r\u001b[K     |██████████████████████████▏     | 911 kB 9.9 MB/s eta 0:00:01\r\u001b[K     |██████████████████████████▌     | 921 kB 9.9 MB/s eta 0:00:01\r\u001b[K     |██████████████████████████▊     | 931 kB 9.9 MB/s eta 0:00:01\r\u001b[K     |███████████████████████████     | 942 kB 9.9 MB/s eta 0:00:01\r\u001b[K     |███████████████████████████▎    | 952 kB 9.9 MB/s eta 0:00:01\r\u001b[K     |███████████████████████████▋    | 962 kB 9.9 MB/s eta 0:00:01\r\u001b[K     |████████████████████████████    | 972 kB 9.9 MB/s eta 0:00:01\r\u001b[K     |████████████████████████████▏   | 983 kB 9.9 MB/s eta 0:00:01\r\u001b[K     |████████████████████████████▌   | 993 kB 9.9 MB/s eta 0:00:01\r\u001b[K     |████████████████████████████▉   | 1.0 MB 9.9 MB/s eta 0:00:01\r\u001b[K     |█████████████████████████████   | 1.0 MB 9.9 MB/s eta 0:00:01\r\u001b[K     |█████████████████████████████▍  | 1.0 MB 9.9 MB/s eta 0:00:01\r\u001b[K     |█████████████████████████████▊  | 1.0 MB 9.9 MB/s eta 0:00:01\r\u001b[K     |██████████████████████████████  | 1.0 MB 9.9 MB/s eta 0:00:01\r\u001b[K     |██████████████████████████████▎ | 1.1 MB 9.9 MB/s eta 0:00:01\r\u001b[K     |██████████████████████████████▋ | 1.1 MB 9.9 MB/s eta 0:00:01\r\u001b[K     |██████████████████████████████▉ | 1.1 MB 9.9 MB/s eta 0:00:01\r\u001b[K     |███████████████████████████████▏| 1.1 MB 9.9 MB/s eta 0:00:01\r\u001b[K     |███████████████████████████████▍| 1.1 MB 9.9 MB/s eta 0:00:01\r\u001b[K     |███████████████████████████████▊| 1.1 MB 9.9 MB/s eta 0:00:01\r\u001b[K     |████████████████████████████████| 1.1 MB 9.9 MB/s \n",
            "\u001b[?25hRequirement already satisfied: typeguard>=2.7 in /usr/local/lib/python3.7/dist-packages (from tensorflow-addons) (2.7.1)\n",
            "Installing collected packages: tensorflow-addons\n",
            "Successfully installed tensorflow-addons-0.15.0\n"
          ]
        }
      ],
      "source": [
        "pip install -U tensorflow-addons"
      ]
    },
    {
      "cell_type": "code",
      "execution_count": null,
      "metadata": {
        "colab": {
          "base_uri": "https://localhost:8080/"
        },
        "id": "L3ZWxOE-M7wb",
        "outputId": "49e655b0-d45c-4199-9a83-f0eb25365c1c"
      },
      "outputs": [
        {
          "output_type": "stream",
          "name": "stdout",
          "text": [
            "Collecting optuna\n",
            "  Downloading optuna-2.10.0-py3-none-any.whl (308 kB)\n",
            "\u001b[K     |████████████████████████████████| 308 kB 7.6 MB/s \n",
            "\u001b[?25hCollecting cliff\n",
            "  Downloading cliff-3.10.0-py3-none-any.whl (80 kB)\n",
            "\u001b[K     |████████████████████████████████| 80 kB 9.6 MB/s \n",
            "\u001b[?25hRequirement already satisfied: sqlalchemy>=1.1.0 in /usr/local/lib/python3.7/dist-packages (from optuna) (1.4.27)\n",
            "Requirement already satisfied: numpy in /usr/local/lib/python3.7/dist-packages (from optuna) (1.19.5)\n",
            "Collecting colorlog\n",
            "  Downloading colorlog-6.6.0-py2.py3-none-any.whl (11 kB)\n",
            "Collecting alembic\n",
            "  Downloading alembic-1.7.5-py3-none-any.whl (209 kB)\n",
            "\u001b[K     |████████████████████████████████| 209 kB 47.0 MB/s \n",
            "\u001b[?25hCollecting cmaes>=0.8.2\n",
            "  Downloading cmaes-0.8.2-py3-none-any.whl (15 kB)\n",
            "Requirement already satisfied: scipy!=1.4.0 in /usr/local/lib/python3.7/dist-packages (from optuna) (1.4.1)\n",
            "Requirement already satisfied: tqdm in /usr/local/lib/python3.7/dist-packages (from optuna) (4.62.3)\n",
            "Requirement already satisfied: packaging>=20.0 in /usr/local/lib/python3.7/dist-packages (from optuna) (21.3)\n",
            "Requirement already satisfied: PyYAML in /usr/local/lib/python3.7/dist-packages (from optuna) (3.13)\n",
            "Requirement already satisfied: pyparsing!=3.0.5,>=2.0.2 in /usr/local/lib/python3.7/dist-packages (from packaging>=20.0->optuna) (3.0.6)\n",
            "Requirement already satisfied: greenlet!=0.4.17 in /usr/local/lib/python3.7/dist-packages (from sqlalchemy>=1.1.0->optuna) (1.1.2)\n",
            "Requirement already satisfied: importlib-metadata in /usr/local/lib/python3.7/dist-packages (from sqlalchemy>=1.1.0->optuna) (4.8.2)\n",
            "Collecting Mako\n",
            "  Downloading Mako-1.1.6-py2.py3-none-any.whl (75 kB)\n",
            "\u001b[K     |████████████████████████████████| 75 kB 4.6 MB/s \n",
            "\u001b[?25hRequirement already satisfied: importlib-resources in /usr/local/lib/python3.7/dist-packages (from alembic->optuna) (5.4.0)\n",
            "Collecting pbr!=2.1.0,>=2.0.0\n",
            "  Downloading pbr-5.8.0-py2.py3-none-any.whl (112 kB)\n",
            "\u001b[K     |████████████████████████████████| 112 kB 51.4 MB/s \n",
            "\u001b[?25hCollecting cmd2>=1.0.0\n",
            "  Downloading cmd2-2.3.3-py3-none-any.whl (149 kB)\n",
            "\u001b[K     |████████████████████████████████| 149 kB 56.3 MB/s \n",
            "\u001b[?25hCollecting autopage>=0.4.0\n",
            "  Downloading autopage-0.4.0-py3-none-any.whl (20 kB)\n",
            "Collecting stevedore>=2.0.1\n",
            "  Downloading stevedore-3.5.0-py3-none-any.whl (49 kB)\n",
            "\u001b[K     |████████████████████████████████| 49 kB 5.4 MB/s \n",
            "\u001b[?25hRequirement already satisfied: PrettyTable>=0.7.2 in /usr/local/lib/python3.7/dist-packages (from cliff->optuna) (2.4.0)\n",
            "Requirement already satisfied: attrs>=16.3.0 in /usr/local/lib/python3.7/dist-packages (from cmd2>=1.0.0->cliff->optuna) (21.2.0)\n",
            "Requirement already satisfied: typing-extensions in /usr/local/lib/python3.7/dist-packages (from cmd2>=1.0.0->cliff->optuna) (3.10.0.2)\n",
            "Collecting pyperclip>=1.6\n",
            "  Downloading pyperclip-1.8.2.tar.gz (20 kB)\n",
            "Requirement already satisfied: wcwidth>=0.1.7 in /usr/local/lib/python3.7/dist-packages (from cmd2>=1.0.0->cliff->optuna) (0.2.5)\n",
            "Requirement already satisfied: zipp>=0.5 in /usr/local/lib/python3.7/dist-packages (from importlib-metadata->sqlalchemy>=1.1.0->optuna) (3.6.0)\n",
            "Requirement already satisfied: MarkupSafe>=0.9.2 in /usr/local/lib/python3.7/dist-packages (from Mako->alembic->optuna) (2.0.1)\n",
            "Building wheels for collected packages: pyperclip\n",
            "  Building wheel for pyperclip (setup.py) ... \u001b[?25l\u001b[?25hdone\n",
            "  Created wheel for pyperclip: filename=pyperclip-1.8.2-py3-none-any.whl size=11136 sha256=d5add41779b47f70c28ddf70513db06d8655da5ce0c43e0f44b3badf88e7b744\n",
            "  Stored in directory: /root/.cache/pip/wheels/9f/18/84/8f69f8b08169c7bae2dde6bd7daf0c19fca8c8e500ee620a28\n",
            "Successfully built pyperclip\n",
            "Installing collected packages: pyperclip, pbr, stevedore, Mako, cmd2, autopage, colorlog, cmaes, cliff, alembic, optuna\n",
            "Successfully installed Mako-1.1.6 alembic-1.7.5 autopage-0.4.0 cliff-3.10.0 cmaes-0.8.2 cmd2-2.3.3 colorlog-6.6.0 optuna-2.10.0 pbr-5.8.0 pyperclip-1.8.2 stevedore-3.5.0\n"
          ]
        }
      ],
      "source": [
        "pip install optuna"
      ]
    },
    {
      "cell_type": "code",
      "execution_count": null,
      "metadata": {
        "id": "t4PJZQh1te6_"
      },
      "outputs": [],
      "source": [
        "import numpy as np\n",
        "import tensorflow as tf\n",
        "from tensorflow import keras\n",
        "from tensorflow.keras import layers\n",
        "import tensorflow_addons as tfa\n",
        "import codecs, copy\n",
        "import time\n",
        "import matplotlib.pyplot as plt\n",
        "from sklearn.metrics import classification_report, roc_curve, auc\n",
        "import copy\n",
        "from keras.layers import Lambda\n",
        "import optuna\n",
        "\n",
        "\n",
        "\n",
        "input_path = '/content/drive/MyDrive/experiment/learning_data/tfrecord/data_train_2013_MjT_tnsp'\n",
        "output_path = '/content/drive/MyDrive/experiment/learning_data/tfrecord/data_train_2013_MjT_tnsp_24_36_1_'\n",
        "output_path2 = '/content/drive/MyDrive/experiment/learning_data/tfrecord/data_test_2015_MjT_tnsp_24_36_1_'\n",
        "weights_path = '/content/drive/MyDrive/experiment/backup/hitori_T.ckpt.data-00000-of-00001'"
      ]
    },
    {
      "cell_type": "markdown",
      "metadata": {
        "id": "9B1DpPSKte7A"
      },
      "source": [
        "## Prepare the data"
      ]
    },
    {
      "cell_type": "code",
      "execution_count": null,
      "metadata": {
        "id": "Q8JJ0FA-PBBE"
      },
      "outputs": [],
      "source": [
        "num_classes = 1\n",
        "# input_shape = (25,36,1)#36:lichi 37:目標指定\n",
        "input_shape = (24,36,1)#36:lichi 37:目標指定\n",
        "\n",
        "\n",
        "\n"
      ]
    },
    {
      "cell_type": "markdown",
      "metadata": {
        "id": "uZWfdcI4te7B"
      },
      "source": [
        "## Configure the hyperparameters"
      ]
    },
    {
      "cell_type": "code",
      "execution_count": null,
      "metadata": {
        "id": "vBwR8jJSte7D"
      },
      "outputs": [],
      "source": [
        "learning_rate = 0.001\n",
        "weight_decay = 0.0001\n",
        "batch_size = 256\n",
        "\n",
        "# image_size = 72  # We'll resize input images to this size\n",
        "# patch_size = 6  # Size of the patches to be extract from the input images\n",
        "num_patches = 24\n",
        "projection_dim = 104\n",
        "num_heads = 5\n",
        "transformer_layers = 8\n",
        "transformer_units = [\n",
        "    projection_dim * 2,\n",
        "    projection_dim,\n",
        "]  # Size of the transformer layers\n",
        "\n",
        "mlp_head_units = [projection_dim, projection_dim//2]  # Size of the dense layers of the final classifier\n"
      ]
    },
    {
      "cell_type": "markdown",
      "metadata": {
        "id": "SnI6LZUSte7G"
      },
      "source": [
        "## Implement multilayer perceptron (MLP)"
      ]
    },
    {
      "cell_type": "code",
      "execution_count": null,
      "metadata": {
        "id": "KwlJZFkPte7G"
      },
      "outputs": [],
      "source": [
        "\n",
        "def mlp(x, hidden_units, dropout_rate):\n",
        "    for units in hidden_units:\n",
        "        x = layers.Dense(units, activation=tf.nn.gelu)(x)\n",
        "        x = layers.Dropout(dropout_rate)(x)\n",
        "    return x\n"
      ]
    },
    {
      "cell_type": "markdown",
      "metadata": {
        "id": "Y6v9YSPXte7G"
      },
      "source": [
        "## Implement patch creation as a layer"
      ]
    },
    {
      "cell_type": "code",
      "execution_count": null,
      "metadata": {
        "id": "t1utOpgZte7H"
      },
      "outputs": [],
      "source": [
        "\n",
        "class Patches(layers.Layer):\n",
        "    def __init__(self):\n",
        "        super(Patches, self).__init__()\n",
        "        \n",
        "\n",
        "    def call(self, images):\n",
        "        batch_size = tf.shape(images)[0]\n",
        "        patches = tf.image.extract_patches(\n",
        "            images=images,\n",
        "            sizes=[1, 1, 36, 1],\n",
        "            strides=[1, 1, 1, 1],\n",
        "            rates=[1, 1, 1, 1],\n",
        "            padding=\"VALID\",\n",
        "        )\n",
        "        patch_dims = patches.shape[-1]\n",
        "        patches = tf.reshape(patches, [batch_size, -1, patch_dims])\n",
        "        return patches\n"
      ]
    },
    {
      "cell_type": "markdown",
      "metadata": {
        "id": "t4QLPCLrte7I"
      },
      "source": [
        "## Implement the patch encoding layer\n",
        "\n",
        "The `PatchEncoder` layer will linearly transform a patch by projecting it into a\n",
        "vector of size `projection_dim`. In addition, it adds a learnable position\n",
        "embedding to the projected vector."
      ]
    },
    {
      "cell_type": "code",
      "execution_count": null,
      "metadata": {
        "id": "JPxfj2RVte7I"
      },
      "outputs": [],
      "source": [
        "\n",
        "class PatchEncoder(layers.Layer):\n",
        "    def __init__(self, num_patches, projection_dim):\n",
        "        super(PatchEncoder, self).__init__()\n",
        "        self.num_patches = num_patches\n",
        "        self.projection = layers.Dense(units=projection_dim)\n",
        "        self.position_embedding = layers.Embedding(\n",
        "            input_dim=num_patches, output_dim=projection_dim\n",
        "        )\n",
        "\n",
        "    def call(self, patch):\n",
        "        positions = tf.range(start=0, limit=self.num_patches, delta=1)\n",
        "        encoded = self.projection(patch) + self.position_embedding(positions)\n",
        "        return encoded\n"
      ]
    },
    {
      "cell_type": "markdown",
      "metadata": {
        "id": "QBYtmTkFte7I"
      },
      "source": [
        "## Build the ViT model\n",
        "\n"
      ]
    },
    {
      "cell_type": "code",
      "execution_count": null,
      "metadata": {
        "id": "7XrMLEX5te7J"
      },
      "outputs": [],
      "source": [
        "\n",
        "def create_vit_classifier():\n",
        "    inputs = layers.Input(shape=input_shape)\n",
        "    # Augment data.\n",
        "    # augmented = data_augmentation(inputs)\n",
        "    # Create patches.\n",
        "    patches = Patches()(inputs)\n",
        "    # Encode patches.\n",
        "    encoded_patches = PatchEncoder(num_patches, projection_dim)(patches)\n",
        "\n",
        "    # Create multiple layers of the Transformer block.\n",
        "    for _ in range(transformer_layers):\n",
        "        # Layer normalization 1.\n",
        "        x1 = layers.LayerNormalization(epsilon=1e-6)(encoded_patches)\n",
        "        # Create a multi-head attention layer.\n",
        "        attention_output = layers.MultiHeadAttention(\n",
        "            num_heads=num_heads, key_dim=projection_dim, dropout=0.1\n",
        "        )(x1, x1)\n",
        "        # Skip connection 1.\n",
        "        x2 = layers.Add()([attention_output, encoded_patches])\n",
        "        # Layer normalization 2.\n",
        "        x3 = layers.LayerNormalization(epsilon=1e-6)(x2)\n",
        "        # MLP.\n",
        "        x3 = mlp(x3, hidden_units=[projection_dim * 2,projection_dim,], dropout_rate=0.1)\n",
        "        # Skip connection 2.\n",
        "        encoded_patches = layers.Add()([x3, x2])\n",
        "\n",
        "    # Create a [batch_size, projection_dim] tensor.\n",
        "    # encoded_patches = Lambda(lambda a: a[:,:1], input_shape=[None, 25,16])(encoded_patches)\n",
        "    representation = layers.LayerNormalization(epsilon=1e-6)(encoded_patches)\n",
        "    representation = layers.Flatten()(representation)\n",
        "    representation = layers.Dropout(0.15)(representation)\n",
        "    # Add MLP.\n",
        "    features = mlp(representation, hidden_units= [projection_dim*8, projection_dim*4], dropout_rate=0.15)\n",
        "    # Classify outputs.\n",
        "    logits = layers.Dense(num_classes,activation='sigmoid')(features)\n",
        "    # Create the Keras model.\n",
        "    model = keras.Model(inputs=inputs, outputs=logits)\n",
        "    return model\n"
      ]
    },
    {
      "cell_type": "code",
      "execution_count": null,
      "metadata": {
        "colab": {
          "base_uri": "https://localhost:8080/"
        },
        "id": "TweGqrbHp1GJ",
        "outputId": "7246d1c9-7b75-496d-c78e-3fe5d0981390"
      },
      "outputs": [
        {
          "output_type": "stream",
          "name": "stdout",
          "text": [
            "Fri Dec 10 04:14:01 2021       \n",
            "+-----------------------------------------------------------------------------+\n",
            "| NVIDIA-SMI 495.44       Driver Version: 460.32.03    CUDA Version: 11.2     |\n",
            "|-------------------------------+----------------------+----------------------+\n",
            "| GPU  Name        Persistence-M| Bus-Id        Disp.A | Volatile Uncorr. ECC |\n",
            "| Fan  Temp  Perf  Pwr:Usage/Cap|         Memory-Usage | GPU-Util  Compute M. |\n",
            "|                               |                      |               MIG M. |\n",
            "|===============================+======================+======================|\n",
            "|   0  Tesla P100-PCIE...  Off  | 00000000:00:04.0 Off |                    0 |\n",
            "| N/A   39C    P0    26W / 250W |      0MiB / 16280MiB |      0%      Default |\n",
            "|                               |                      |                  N/A |\n",
            "+-------------------------------+----------------------+----------------------+\n",
            "                                                                               \n",
            "+-----------------------------------------------------------------------------+\n",
            "| Processes:                                                                  |\n",
            "|  GPU   GI   CI        PID   Type   Process name                  GPU Memory |\n",
            "|        ID   ID                                                   Usage      |\n",
            "|=============================================================================|\n",
            "|  No running processes found                                                 |\n",
            "+-----------------------------------------------------------------------------+\n"
          ]
        }
      ],
      "source": [
        "!nvidia-smi"
      ]
    },
    {
      "cell_type": "code",
      "execution_count": null,
      "metadata": {
        "id": "fwbbd5bqa_23"
      },
      "outputs": [],
      "source": [
        "def deserialize_example(serialized_string):\n",
        "    image_feature_description = {\n",
        "        'x': tf.io.FixedLenFeature([], tf.string),\n",
        "        'y1': tf.io.FixedLenFeature([], tf.string),\n",
        "    }\n",
        "    example = tf.io.parse_single_example(serialized_string, image_feature_description)\n",
        "    image = tf.reshape(tf.io.decode_raw(example[\"x\"], tf.int32), (24, 36, 1))\n",
        "    label = tf.io.decode_raw(example[\"y1\"], tf.int32)\n",
        "    return image, label"
      ]
    },
    {
      "cell_type": "markdown",
      "metadata": {
        "id": "POXFGzF8te7J"
      },
      "source": [
        "## Compile, train, and evaluate the mode"
      ]
    },
    {
      "cell_type": "code",
      "execution_count": null,
      "metadata": {
        "colab": {
          "base_uri": "https://localhost:8080/"
        },
        "id": "itRdb257te7J",
        "outputId": "f6556ca2-82ff-4c52-ea7e-c148bd02aa34"
      },
      "outputs": [
        {
          "metadata": {
            "tags": null
          },
          "name": "stderr",
          "output_type": "stream",
          "text": [
            "\u001b[32m[I 2021-12-10 04:16:14,573]\u001b[0m A new study created in memory with name: no-name-c11da6f7-f62e-4798-8b5b-dc1e21853339\u001b[0m\n"
          ]
        },
        {
          "metadata": {
            "tags": null
          },
          "name": "stdout",
          "output_type": "stream",
          "text": [
            "epoch:1 0.540516416958878\n",
            "epoch:2 0.5647605083088953\n",
            "epoch:3 0.570642750373692\n",
            "epoch:4 0.5441291330382714\n"
          ]
        },
        {
          "metadata": {
            "tags": null
          },
          "name": "stderr",
          "output_type": "stream",
          "text": [
            "\u001b[32m[I 2021-12-10 04:57:44,855]\u001b[0m Trial 0 finished with value: -0.570642750373692 and parameters: {'num_head': 9, 'num_layers': 12}. Best is trial 0 with value: -0.570642750373692.\u001b[0m\n"
          ]
        },
        {
          "metadata": {
            "tags": null
          },
          "name": "stdout",
          "output_type": "stream",
          "text": [
            "epoch:5 0.5542596348884381\n",
            "epoch:1 0.5795918367346939\n",
            "epoch:2 0.5645002461841457\n",
            "epoch:3 0.5908925697076692\n",
            "epoch:4 0.5723696029702378\n"
          ]
        },
        {
          "metadata": {
            "tags": null
          },
          "name": "stderr",
          "output_type": "stream",
          "text": [
            "\u001b[32m[I 2021-12-10 05:35:51,149]\u001b[0m Trial 1 finished with value: -0.5908925697076692 and parameters: {'num_head': 2, 'num_layers': 11}. Best is trial 1 with value: -0.5908925697076692.\u001b[0m\n"
          ]
        },
        {
          "metadata": {
            "tags": null
          },
          "name": "stdout",
          "output_type": "stream",
          "text": [
            "epoch:5 0.5704475633997952\n",
            "epoch:1 0.5674505674505674\n",
            "epoch:2 0.5735432330827068\n",
            "epoch:3 0.5795885061490935\n",
            "epoch:4 0.5621163761355267\n"
          ]
        },
        {
          "metadata": {
            "tags": null
          },
          "name": "stderr",
          "output_type": "stream",
          "text": [
            "\u001b[32m[I 2021-12-10 05:45:00,500]\u001b[0m Trial 2 finished with value: -0.5795885061490935 and parameters: {'num_head': 5, 'num_layers': 1}. Best is trial 1 with value: -0.5908925697076692.\u001b[0m\n"
          ]
        },
        {
          "metadata": {
            "tags": null
          },
          "name": "stdout",
          "output_type": "stream",
          "text": [
            "epoch:5 0.5530408395498798\n",
            "epoch:1 0.5228810187027457\n",
            "epoch:2 0.4921913998431149\n",
            "epoch:3 0.5616178896560151\n",
            "epoch:4 0.5495729199620374\n"
          ]
        },
        {
          "metadata": {
            "tags": null
          },
          "name": "stderr",
          "output_type": "stream",
          "text": [
            "\u001b[32m[I 2021-12-10 05:56:57,388]\u001b[0m Trial 3 finished with value: -0.5616178896560151 and parameters: {'num_head': 3, 'num_layers': 2}. Best is trial 1 with value: -0.5908925697076692.\u001b[0m\n"
          ]
        },
        {
          "metadata": {
            "tags": null
          },
          "name": "stdout",
          "output_type": "stream",
          "text": [
            "epoch:5 0.5344418052256533\n",
            "epoch:1 0.5752262443438914\n",
            "epoch:2 0.5878676265416598\n",
            "epoch:3 0.5755395683453237\n",
            "epoch:4 0.5751720011965301\n"
          ]
        },
        {
          "metadata": {
            "tags": null
          },
          "name": "stderr",
          "output_type": "stream",
          "text": [
            "\u001b[32m[I 2021-12-10 06:15:46,808]\u001b[0m Trial 4 finished with value: -0.5878676265416598 and parameters: {'num_head': 8, 'num_layers': 4}. Best is trial 1 with value: -0.5908925697076692.\u001b[0m\n"
          ]
        },
        {
          "metadata": {
            "tags": null
          },
          "name": "stdout",
          "output_type": "stream",
          "text": [
            "epoch:5 0.5786920694290223\n",
            "epoch:1 0.5365759006532566\n",
            "epoch:2 0.5841449366425805\n",
            "epoch:3 0.5665417623594827\n",
            "epoch:4 0.5675659363872291\n"
          ]
        },
        {
          "metadata": {
            "tags": null
          },
          "name": "stderr",
          "output_type": "stream",
          "text": [
            "\u001b[32m[I 2021-12-10 06:54:44,647]\u001b[0m Trial 5 finished with value: -0.5841449366425805 and parameters: {'num_head': 9, 'num_layers': 10}. Best is trial 1 with value: -0.5908925697076692.\u001b[0m\n"
          ]
        },
        {
          "metadata": {
            "tags": null
          },
          "name": "stdout",
          "output_type": "stream",
          "text": [
            "epoch:5 0.4934768660440579\n",
            "epoch:1 0.5473804389191932\n",
            "epoch:2 0.5478354840760282\n",
            "epoch:3 0.5893797699666774\n",
            "epoch:4 0.5321309285237141\n"
          ]
        },
        {
          "metadata": {
            "tags": null
          },
          "name": "stderr",
          "output_type": "stream",
          "text": [
            "\u001b[32m[I 2021-12-10 07:36:20,926]\u001b[0m Trial 6 finished with value: -0.5893797699666774 and parameters: {'num_head': 8, 'num_layers': 12}. Best is trial 1 with value: -0.5908925697076692.\u001b[0m\n"
          ]
        },
        {
          "metadata": {
            "tags": null
          },
          "name": "stdout",
          "output_type": "stream",
          "text": [
            "epoch:5 0.5718748122784886\n",
            "epoch:1 0.5829596412556054\n",
            "epoch:2 0.5414522956691631\n",
            "epoch:3 0.5781567653038175\n",
            "epoch:4 0.5777011494252874\n"
          ]
        },
        {
          "metadata": {
            "tags": null
          },
          "name": "stderr",
          "output_type": "stream",
          "text": [
            "\u001b[32m[I 2021-12-10 07:57:10,162]\u001b[0m Trial 7 finished with value: -0.5829596412556054 and parameters: {'num_head': 10, 'num_layers': 5}. Best is trial 1 with value: -0.5908925697076692.\u001b[0m\n"
          ]
        },
        {
          "metadata": {
            "tags": null
          },
          "name": "stdout",
          "output_type": "stream",
          "text": [
            "epoch:5 0.5805771819937949\n",
            "epoch:1 0.49119581359168374\n",
            "epoch:2 0.584817244611059\n",
            "epoch:3 0.5857335733573357\n",
            "epoch:4 0.5799964926638219\n"
          ]
        },
        {
          "metadata": {
            "tags": null
          },
          "name": "stderr",
          "output_type": "stream",
          "text": [
            "\u001b[32m[I 2021-12-10 08:57:42,285]\u001b[0m Trial 8 finished with value: -0.5857335733573357 and parameters: {'num_head': 12, 'num_layers': 12}. Best is trial 1 with value: -0.5908925697076692.\u001b[0m\n"
          ]
        },
        {
          "metadata": {
            "tags": null
          },
          "name": "stdout",
          "output_type": "stream",
          "text": [
            "epoch:5 0.5674615152429822\n",
            "epoch:1 0.5695496447654276\n",
            "epoch:2 0.560108782990296\n",
            "epoch:3 0.5662695000614175\n",
            "epoch:4 0.5719132436689689\n"
          ]
        },
        {
          "metadata": {
            "tags": null
          },
          "name": "stderr",
          "output_type": "stream",
          "text": [
            "\u001b[32m[I 2021-12-10 09:13:21,871]\u001b[0m Trial 9 finished with value: -0.5719132436689689 and parameters: {'num_head': 2, 'num_layers': 3}. Best is trial 1 with value: -0.5908925697076692.\u001b[0m\n"
          ]
        },
        {
          "metadata": {
            "tags": null
          },
          "name": "stdout",
          "output_type": "stream",
          "text": [
            "epoch:5 0.54909510974201\n",
            "epoch:1 0.5108978752570253\n",
            "epoch:2 0.5385474860335197\n",
            "epoch:3 0.5467894635151672\n",
            "epoch:4 0.563732741617357\n"
          ]
        },
        {
          "metadata": {
            "tags": null
          },
          "name": "stderr",
          "output_type": "stream",
          "text": [
            "\u001b[32m[I 2021-12-10 09:46:33,705]\u001b[0m Trial 10 finished with value: -0.5672731698411733 and parameters: {'num_head': 1, 'num_layers': 8}. Best is trial 1 with value: -0.5908925697076692.\u001b[0m\n"
          ]
        },
        {
          "metadata": {
            "tags": null
          },
          "name": "stdout",
          "output_type": "stream",
          "text": [
            "epoch:5 0.5672731698411733\n",
            "epoch:1 0.5566541792053061\n",
            "epoch:2 0.5894021590224121\n",
            "epoch:3 0.5551750380517504\n",
            "epoch:4 0.5821847590841781\n"
          ]
        },
        {
          "metadata": {
            "tags": null
          },
          "name": "stderr",
          "output_type": "stream",
          "text": [
            "\u001b[32m[I 2021-12-10 10:21:12,107]\u001b[0m Trial 11 finished with value: -0.5894021590224121 and parameters: {'num_head': 6, 'num_layers': 9}. Best is trial 1 with value: -0.5908925697076692.\u001b[0m\n"
          ]
        },
        {
          "metadata": {
            "tags": null
          },
          "name": "stdout",
          "output_type": "stream",
          "text": [
            "epoch:5 0.576824850032666\n",
            "epoch:1 0.5521947620804132\n",
            "epoch:2 0.5366110161693178\n",
            "epoch:3 0.5800709673666452\n",
            "epoch:4 0.5650820772563617\n"
          ]
        },
        {
          "metadata": {
            "tags": null
          },
          "name": "stderr",
          "output_type": "stream",
          "text": [
            "\u001b[32m[I 2021-12-10 10:54:46,332]\u001b[0m Trial 12 finished with value: -0.5800709673666452 and parameters: {'num_head': 5, 'num_layers': 8}. Best is trial 1 with value: -0.5908925697076692.\u001b[0m\n"
          ]
        },
        {
          "metadata": {
            "tags": null
          },
          "name": "stdout",
          "output_type": "stream",
          "text": [
            "epoch:5 0.5599104143337067\n",
            "epoch:1 0.5597579425113464\n",
            "epoch:2 0.5289233884576443\n",
            "epoch:3 0.5351531291611186\n",
            "epoch:4 0.5682974085735044\n"
          ]
        },
        {
          "metadata": {
            "tags": null
          },
          "name": "stderr",
          "output_type": "stream",
          "text": [
            "\u001b[32m[I 2021-12-10 11:29:19,178]\u001b[0m Trial 13 finished with value: -0.5874539569148343 and parameters: {'num_head': 4, 'num_layers': 9}. Best is trial 1 with value: -0.5908925697076692.\u001b[0m\n"
          ]
        },
        {
          "metadata": {
            "tags": null
          },
          "name": "stdout",
          "output_type": "stream",
          "text": [
            "epoch:5 0.5874539569148343\n",
            "epoch:1 0.5824046292327475\n",
            "epoch:2 0.5372842722240313\n",
            "epoch:3 0.5579080025204788\n",
            "epoch:4 0.5833089995911931\n"
          ]
        },
        {
          "metadata": {
            "tags": null
          },
          "name": "stderr",
          "output_type": "stream",
          "text": [
            "\u001b[32m[I 2021-12-10 12:07:44,998]\u001b[0m Trial 14 finished with value: -0.5833089995911931 and parameters: {'num_head': 6, 'num_layers': 10}. Best is trial 1 with value: -0.5908925697076692.\u001b[0m\n"
          ]
        },
        {
          "metadata": {
            "tags": null
          },
          "name": "stdout",
          "output_type": "stream",
          "text": [
            "epoch:5 0.513094151513024\n",
            "epoch:1 0.49623010332309414\n",
            "epoch:2 0.5666122892876564\n",
            "epoch:3 0.5763466042154567\n",
            "epoch:4 0.574639971900246\n"
          ]
        },
        {
          "metadata": {
            "tags": null
          },
          "name": "stderr",
          "output_type": "stream",
          "text": [
            "\u001b[32m[I 2021-12-10 12:38:18,295]\u001b[0m Trial 15 finished with value: -0.5796652911508482 and parameters: {'num_head': 1, 'num_layers': 7}. Best is trial 1 with value: -0.5908925697076692.\u001b[0m\n"
          ]
        },
        {
          "metadata": {
            "tags": null
          },
          "name": "stdout",
          "output_type": "stream",
          "text": [
            "epoch:5 0.5796652911508482\n",
            "epoch:1 0.562248029363981\n",
            "epoch:2 0.5491105955143077\n",
            "epoch:3 0.5752052148720425\n",
            "epoch:4 0.5666956198039459\n"
          ]
        },
        {
          "metadata": {
            "tags": null
          },
          "name": "stderr",
          "output_type": "stream",
          "text": [
            "\u001b[32m[I 2021-12-10 13:17:09,184]\u001b[0m Trial 16 finished with value: -0.5752052148720425 and parameters: {'num_head': 3, 'num_layers': 10}. Best is trial 1 with value: -0.5908925697076692.\u001b[0m\n"
          ]
        },
        {
          "metadata": {
            "tags": null
          },
          "name": "stdout",
          "output_type": "stream",
          "text": [
            "epoch:5 0.5481481481481482\n",
            "epoch:1 0.5639981382359786\n",
            "epoch:2 0.5030623020063358\n",
            "epoch:3 0.5657659875669354\n",
            "epoch:4 0.56007056007056\n"
          ]
        },
        {
          "metadata": {
            "tags": null
          },
          "name": "stderr",
          "output_type": "stream",
          "text": [
            "\u001b[32m[I 2021-12-10 13:45:25,824]\u001b[0m Trial 17 finished with value: -0.582186416023274 and parameters: {'num_head': 7, 'num_layers': 6}. Best is trial 1 with value: -0.5908925697076692.\u001b[0m\n"
          ]
        },
        {
          "metadata": {
            "tags": null
          },
          "name": "stdout",
          "output_type": "stream",
          "text": [
            "epoch:5 0.582186416023274\n",
            "epoch:1 0.5769865195381377\n",
            "epoch:2 0.5858267716535434\n",
            "epoch:3 0.5755661501787842\n",
            "epoch:4 0.5396243701328447\n"
          ]
        },
        {
          "metadata": {
            "tags": null
          },
          "name": "stderr",
          "output_type": "stream",
          "text": [
            "\u001b[32m[I 2021-12-10 14:28:19,034]\u001b[0m Trial 18 finished with value: -0.5858267716535434 and parameters: {'num_head': 12, 'num_layers': 11}. Best is trial 1 with value: -0.5908925697076692.\u001b[0m\n"
          ]
        },
        {
          "metadata": {
            "tags": null
          },
          "name": "stdout",
          "output_type": "stream",
          "text": [
            "epoch:5 0.5279359913208571\n",
            "epoch:1 0.5187828194425744\n",
            "epoch:2 0.5388026607538802\n",
            "epoch:3 0.5686121295906714\n",
            "epoch:4 0.5655421386779534\n"
          ]
        },
        {
          "metadata": {
            "tags": null
          },
          "name": "stderr",
          "output_type": "stream",
          "text": [
            "\u001b[32m[I 2021-12-10 15:01:20,637]\u001b[0m Trial 19 finished with value: -0.5686121295906714 and parameters: {'num_head': 6, 'num_layers': 8}. Best is trial 1 with value: -0.5908925697076692.\u001b[0m\n"
          ]
        },
        {
          "output_type": "stream",
          "name": "stdout",
          "text": [
            "epoch:5 0.5555555555555556\n",
            "epoch:1 0.5772092276401006\n",
            "epoch:2 0.5455950540958269\n",
            "epoch:3 0.5835388586177229\n",
            "epoch:4 0.5796511627906977\n"
          ]
        },
        {
          "output_type": "stream",
          "name": "stderr",
          "text": [
            "\u001b[32m[I 2021-12-10 15:36:42,132]\u001b[0m Trial 20 finished with value: -0.5835388586177229 and parameters: {'num_head': 3, 'num_layers': 9}. Best is trial 1 with value: -0.5908925697076692.\u001b[0m\n"
          ]
        },
        {
          "output_type": "stream",
          "name": "stdout",
          "text": [
            "epoch:5 0.555798125080262\n",
            "epoch:1 0.507842477280377\n",
            "epoch:2 0.5451505016722408\n",
            "epoch:3 0.5809228650137741\n",
            "epoch:4 0.5790796936210022\n"
          ]
        },
        {
          "output_type": "stream",
          "name": "stderr",
          "text": [
            "\u001b[32m[I 2021-12-10 16:18:22,020]\u001b[0m Trial 21 finished with value: -0.584225352112676 and parameters: {'num_head': 7, 'num_layers': 12}. Best is trial 1 with value: -0.5908925697076692.\u001b[0m\n"
          ]
        },
        {
          "output_type": "stream",
          "name": "stdout",
          "text": [
            "epoch:5 0.584225352112676\n",
            "epoch:1 0.5096055240309018\n",
            "epoch:2 0.5438482525659348\n",
            "epoch:3 0.5654398619074039\n",
            "epoch:4 0.5775857034398177\n"
          ]
        },
        {
          "output_type": "stream",
          "name": "stderr",
          "text": [
            "\u001b[32m[I 2021-12-10 17:05:26,376]\u001b[0m Trial 22 finished with value: -0.5775857034398177 and parameters: {'num_head': 10, 'num_layers': 11}. Best is trial 1 with value: -0.5908925697076692.\u001b[0m\n"
          ]
        },
        {
          "output_type": "stream",
          "name": "stdout",
          "text": [
            "epoch:5 0.5648159546965407\n",
            "epoch:1 0.5713965980304386\n",
            "epoch:2 0.543013170575008\n",
            "epoch:3 0.5510936989879204\n",
            "epoch:4 0.5893261217506485\n"
          ]
        },
        {
          "output_type": "stream",
          "name": "stderr",
          "text": [
            "\u001b[32m[I 2021-12-10 17:45:34,518]\u001b[0m Trial 23 finished with value: -0.5893261217506485 and parameters: {'num_head': 8, 'num_layers': 11}. Best is trial 1 with value: -0.5908925697076692.\u001b[0m\n"
          ]
        },
        {
          "output_type": "stream",
          "name": "stdout",
          "text": [
            "epoch:5 0.579473100064256\n",
            "epoch:1 0.5380730380730381\n",
            "epoch:2 0.561307563234106\n",
            "epoch:3 0.5212648439657553\n",
            "epoch:4 0.5639397335325613\n"
          ]
        },
        {
          "output_type": "stream",
          "name": "stderr",
          "text": [
            "\u001b[32m[I 2021-12-10 18:21:39,901]\u001b[0m Trial 24 finished with value: -0.5746886765131769 and parameters: {'num_head': 5, 'num_layers': 9}. Best is trial 1 with value: -0.5908925697076692.\u001b[0m\n"
          ]
        },
        {
          "output_type": "stream",
          "name": "stdout",
          "text": [
            "epoch:5 0.5746886765131769\n",
            "epoch:1 0.5703512601706687\n",
            "epoch:2 0.5828163601427395\n",
            "epoch:3 0.5917502547873197\n",
            "epoch:4 0.5534288249461276\n"
          ]
        },
        {
          "output_type": "stream",
          "name": "stderr",
          "text": [
            "\u001b[32m[I 2021-12-10 19:01:45,434]\u001b[0m Trial 25 finished with value: -0.5917502547873197 and parameters: {'num_head': 8, 'num_layers': 11}. Best is trial 25 with value: -0.5917502547873197.\u001b[0m\n"
          ]
        },
        {
          "output_type": "stream",
          "name": "stdout",
          "text": [
            "epoch:5 0.5723514984746066\n",
            "epoch:1 0.5556926113235475\n",
            "epoch:2 0.5771080846131555\n",
            "epoch:3 0.5419329336583437\n",
            "epoch:4 0.5379218175743401\n"
          ]
        },
        {
          "output_type": "stream",
          "name": "stderr",
          "text": [
            "\u001b[32m[I 2021-12-10 19:46:49,883]\u001b[0m Trial 26 finished with value: -0.5771080846131555 and parameters: {'num_head': 11, 'num_layers': 10}. Best is trial 25 with value: -0.5917502547873197.\u001b[0m\n"
          ]
        },
        {
          "output_type": "stream",
          "name": "stdout",
          "text": [
            "epoch:5 0.5318362132723727\n",
            "epoch:1 0.5434477478627026\n",
            "epoch:2 0.5863902179691654\n",
            "epoch:3 0.5422645447430212\n",
            "epoch:4 0.5838333522019697\n"
          ]
        },
        {
          "output_type": "stream",
          "name": "stderr",
          "text": [
            "\u001b[32m[I 2021-12-10 20:20:02,347]\u001b[0m Trial 27 finished with value: -0.5863902179691654 and parameters: {'num_head': 4, 'num_layers': 7}. Best is trial 25 with value: -0.5917502547873197.\u001b[0m\n"
          ]
        },
        {
          "output_type": "stream",
          "name": "stdout",
          "text": [
            "epoch:5 0.5653961824096237\n",
            "epoch:1 0.5450487789326022\n",
            "epoch:2 0.5453959662349378\n",
            "epoch:3 0.5579295434312603\n",
            "epoch:4 0.5737109658678287\n"
          ]
        },
        {
          "output_type": "stream",
          "name": "stderr",
          "text": [
            "\u001b[32m[I 2021-12-10 20:59:15,939]\u001b[0m Trial 28 finished with value: -0.5749472202674173 and parameters: {'num_head': 2, 'num_layers': 11}. Best is trial 25 with value: -0.5917502547873197.\u001b[0m\n"
          ]
        },
        {
          "output_type": "stream",
          "name": "stdout",
          "text": [
            "epoch:5 0.5749472202674173\n",
            "epoch:1 0.5014557049771247\n",
            "epoch:2 0.5621426795923441\n",
            "epoch:3 0.5666147020026382\n",
            "epoch:4 0.5675709001233046\n"
          ]
        },
        {
          "output_type": "stream",
          "name": "stderr",
          "text": [
            "\u001b[32m[I 2021-12-10 21:38:45,629]\u001b[0m Trial 29 finished with value: -0.5782285940953137 and parameters: {'num_head': 9, 'num_layers': 9}. Best is trial 25 with value: -0.5917502547873197.\u001b[0m\n"
          ]
        },
        {
          "output_type": "stream",
          "name": "stdout",
          "text": [
            "epoch:5 0.5782285940953137\n",
            "epoch:1 0.5336899093340292\n",
            "epoch:2 0.562992125984252\n",
            "epoch:3 0.5655495317890588\n",
            "epoch:4 0.5750985780857928\n"
          ]
        },
        {
          "output_type": "stream",
          "name": "stderr",
          "text": [
            "\u001b[32m[I 2021-12-10 22:20:36,471]\u001b[0m Trial 30 finished with value: -0.5750985780857928 and parameters: {'num_head': 7, 'num_layers': 12}. Best is trial 25 with value: -0.5917502547873197.\u001b[0m\n"
          ]
        },
        {
          "output_type": "stream",
          "name": "stdout",
          "text": [
            "epoch:5 0.5734804694342267\n",
            "epoch:1 0.5664828071822555\n",
            "epoch:2 0.5827601031814272\n",
            "epoch:3 0.5539106677679649\n",
            "epoch:4 0.5792608871667342\n"
          ]
        },
        {
          "output_type": "stream",
          "name": "stderr",
          "text": [
            "\u001b[32m[I 2021-12-10 23:05:02,749]\u001b[0m Trial 31 finished with value: -0.5827601031814272 and parameters: {'num_head': 8, 'num_layers': 12}. Best is trial 25 with value: -0.5917502547873197.\u001b[0m\n"
          ]
        },
        {
          "output_type": "stream",
          "name": "stdout",
          "text": [
            "epoch:5 0.5629990019960079\n",
            "epoch:1 0.577293628202321\n",
            "epoch:2 0.5554455445544555\n",
            "epoch:3 0.5245254779236683\n",
            "epoch:4 0.5489272298974979\n"
          ]
        },
        {
          "output_type": "stream",
          "name": "stderr",
          "text": [
            "\u001b[32m[I 2021-12-10 23:48:18,964]\u001b[0m Trial 32 finished with value: -0.577293628202321 and parameters: {'num_head': 10, 'num_layers': 11}. Best is trial 25 with value: -0.5917502547873197.\u001b[0m\n"
          ]
        },
        {
          "output_type": "stream",
          "name": "stdout",
          "text": [
            "epoch:5 0.5681776472747294\n",
            "epoch:1 0.5461203358797905\n",
            "epoch:2 0.5398101766411811\n",
            "epoch:3 0.5886776238049198\n",
            "epoch:4 0.5830400726529686\n"
          ]
        },
        {
          "output_type": "stream",
          "name": "stderr",
          "text": [
            "\u001b[32m[I 2021-12-11 00:38:33,015]\u001b[0m Trial 33 finished with value: -0.5886776238049198 and parameters: {'num_head': 8, 'num_layers': 12}. Best is trial 25 with value: -0.5917502547873197.\u001b[0m\n"
          ]
        },
        {
          "output_type": "stream",
          "name": "stdout",
          "text": [
            "epoch:5 0.567084942084942\n",
            "epoch:1 0.5759755337826359\n",
            "epoch:2 0.5637209302325581\n",
            "epoch:3 0.5478221238361872\n",
            "epoch:4 0.5715679102657888\n"
          ]
        },
        {
          "output_type": "stream",
          "name": "stderr",
          "text": [
            "\u001b[32m[I 2021-12-11 01:19:04,697]\u001b[0m Trial 34 finished with value: -0.5759755337826359 and parameters: {'num_head': 9, 'num_layers': 11}. Best is trial 25 with value: -0.5917502547873197.\u001b[0m\n"
          ]
        },
        {
          "output_type": "stream",
          "name": "stdout",
          "text": [
            "epoch:5 0.5712000984191424\n",
            "epoch:1 0.553711359289196\n",
            "epoch:2 0.578805129089759\n",
            "epoch:3 0.5829140109582915\n",
            "epoch:4 0.570160505836576\n"
          ]
        },
        {
          "output_type": "stream",
          "name": "stderr",
          "text": [
            "\u001b[32m[I 2021-12-11 01:57:12,587]\u001b[0m Trial 35 finished with value: -0.5829140109582915 and parameters: {'num_head': 7, 'num_layers': 10}. Best is trial 25 with value: -0.5917502547873197.\u001b[0m\n"
          ]
        },
        {
          "output_type": "stream",
          "name": "stdout",
          "text": [
            "epoch:5 0.5491303510686092\n",
            "epoch:1 0.539878898365779\n",
            "epoch:2 0.5447804878048781\n",
            "epoch:3 0.5581541952972326\n",
            "epoch:4 0.5279299014238773\n"
          ]
        },
        {
          "output_type": "stream",
          "name": "stderr",
          "text": [
            "\u001b[32m[I 2021-12-11 02:34:48,839]\u001b[0m Trial 36 finished with value: -0.5756917112142395 and parameters: {'num_head': 6, 'num_layers': 10}. Best is trial 25 with value: -0.5917502547873197.\u001b[0m\n"
          ]
        },
        {
          "output_type": "stream",
          "name": "stdout",
          "text": [
            "epoch:5 0.5756917112142395\n",
            "epoch:1 0.569242362761579\n",
            "epoch:2 0.5739140797235297\n",
            "epoch:3 0.5749312283219711\n",
            "epoch:4 0.5675904635120416\n"
          ]
        },
        {
          "output_type": "stream",
          "name": "stderr",
          "text": [
            "\u001b[32m[I 2021-12-11 02:44:23,448]\u001b[0m Trial 37 finished with value: -0.5749312283219711 and parameters: {'num_head': 4, 'num_layers': 1}. Best is trial 25 with value: -0.5917502547873197.\u001b[0m\n"
          ]
        },
        {
          "output_type": "stream",
          "name": "stdout",
          "text": [
            "epoch:5 0.5674898105969791\n",
            "epoch:1 0.5075835563791091\n",
            "epoch:2 0.502694003218809\n",
            "epoch:3 0.5480997244119721\n",
            "epoch:4 0.570771001150748\n"
          ]
        },
        {
          "output_type": "stream",
          "name": "stderr",
          "text": [
            "\u001b[32m[I 2021-12-11 03:44:11,743]\u001b[0m Trial 38 finished with value: -0.570771001150748 and parameters: {'num_head': 11, 'num_layers': 12}. Best is trial 25 with value: -0.5917502547873197.\u001b[0m\n"
          ]
        },
        {
          "output_type": "stream",
          "name": "stdout",
          "text": [
            "epoch:5 0.5442338072669826\n",
            "epoch:1 0.5508107439039486\n",
            "epoch:2 0.55399478802517\n",
            "epoch:3 0.5310293821017952\n",
            "epoch:4 0.575664862320546\n"
          ]
        },
        {
          "output_type": "stream",
          "name": "stderr",
          "text": [
            "\u001b[32m[I 2021-12-11 04:06:49,612]\u001b[0m Trial 39 finished with value: -0.575664862320546 and parameters: {'num_head': 9, 'num_layers': 5}. Best is trial 25 with value: -0.5917502547873197.\u001b[0m\n"
          ]
        },
        {
          "output_type": "stream",
          "name": "stdout",
          "text": [
            "epoch:5 0.5448430493273543\n"
          ]
        }
      ],
      "source": [
        "\n",
        "def run_experiment(model):\n",
        "    \n",
        "    \n",
        "    optimizer = tf.optimizers.Adam(\n",
        "        learning_rate=learning_rate\n",
        "        # , decay=0.000003\n",
        "    )\n",
        "\n",
        "    model.compile(\n",
        "        optimizer=optimizer,\n",
        "        loss='binary_crossentropy',\n",
        "        metrics=[\n",
        "            keras.metrics.binary_accuracy\n",
        "            # keras.metrics.SparseTopKCategoricalAccuracy(5, name=\"top-5-accuracy\"),\n",
        "        ],\n",
        "    )\n",
        "    model.summary()\n",
        "\n",
        "\n",
        "    # checkpoint_filepath = \"/content/drive/MyDrive/experiment/model/checkpoint\"\n",
        "    # checkpoint_callback = keras.callbacks.ModelCheckpoint(\n",
        "    #     checkpoint_filepath,\n",
        "    #     monitor=\"val_accuracy\",\n",
        "    #     save_best_only=True,\n",
        "    #     save_weights_only=True,\n",
        "    # )\n",
        "    t=0\n",
        "    max = 0\n",
        "    epochs = 50\n",
        "    trainloss_list=[]\n",
        "    trainacc_list=[]\n",
        "    valloss_list=[]\n",
        "    valacc_list=[]\n",
        "    testloss_list=[]\n",
        "    testacc_list=[]\n",
        "    x_predict=[]\n",
        "    # trainpart = [2,3,4]\n",
        "    # testpart = 1\n",
        "\n",
        "    while t < epochs:\n",
        "      for i in range(10):\n",
        "        dataset = tf.data.TFRecordDataset(output_path + str(i+1)+'.tfrecords').map(deserialize_example).batch(100000)\n",
        "\n",
        "        for data in dataset:\n",
        "          # head = np.zeros([len(data[0]),1,36,1])\n",
        "          # x_head = np.concatenate([head, data[0]],axis=1)\n",
        "          \n",
        "  \n",
        "           \n",
        "          history = model.fit(\n",
        "              # x=x_head,\n",
        "              x=data[0],\n",
        "              y=data[1],\n",
        "              epochs=1,\n",
        "              verbose=2,\n",
        "              class_weight={0:1 , 1:1.2 },\n",
        "              # validation_split=0.1\n",
        "              # callbacks=[checkpoint_callback],\n",
        "          )\n",
        "          trainloss_list.append(history.history['loss'])\n",
        "          trainacc_list.append(history.history['binary_accuracy'])\n",
        "          # valloss_list.append(history.history['val_loss'])\n",
        "          # valacc_list.append(history.history['val_binary_accuracy'])\n",
        "      t += 1\n",
        "      # model.save_weights(\"/content/drive/MyDrive/experiment/model/checkpoint/hitoriforclasstoken.ckpt\"+str(t))\n",
        "     \n",
        "      # testtesttestx=np.empty((0,25,36,1), int)\n",
        "      testtesttestx=np.empty((0,24,36,1), int)\n",
        "      testtesttesty=np.empty((0,1), int)\n",
        "\n",
        "      playernum=np.empty((0,1), int)\n",
        "      lichilichi=np.empty((0,1), int)\n",
        "      sutelenlen=np.empty((0,1), int)\n",
        "      for i in range(2):\n",
        "        testdataset = tf.data.TFRecordDataset(output_path2 + str(i+1)+'.tfrecords').map(deserialize_example).batch(100000)\n",
        "\n",
        "        for data in testdataset:\n",
        "            # head = np.zeros([len(data[0]),1,36,1])\n",
        "            # x_head = np.concatenate([head, data[0]],axis=1)\n",
        "            # testtesttestx = np.concatenate([testtesttestx, data[0]],axis=0)\n",
        "\n",
        "            # testtesttestx = np.append(testtesttestx,x_head,axis=0)\n",
        "            testtesttestx = np.append(testtesttestx,data[0],axis=0)\n",
        "            testtesttesty = np.concatenate([testtesttesty, data[1]])\n",
        " \n",
        "            \n",
        "        # score = model.evaluate(testtesttestx, [testtesttesty1,testtesttesty2,testtesttesty3,testtesttesty4])\n",
        "        # print(score)\n",
        "      score = model.evaluate(x=testtesttestx,y=testtesttesty,verbose=0)\n",
        "      print(score)\n",
        "      testloss_list.append(score[0])\n",
        "      testacc_list.append(score[1])\n",
        "      result = model.predict(testtesttestx)\n",
        "          # fpr, tpr, thresholds = roc_curve(y_test, result)\n",
        "      result_1 = [int((s+0.5)//1) for s in result]\n",
        "      report = classification_report(testtesttesty, result_1, digits=4,output_dict=True)\n",
        "      print(report)\n",
        "      weightedf1 = report['1']['f1-score']\n",
        "      print('epoch:'+str(t)+' '+str(weightedf1))\n",
        "      if weightedf1 > max:\n",
        "        max = weightedf1\n",
        "        model.save_weights(\"./checkpoint/hitori_T.ckpt\")\n",
        "    fig1=plt.figure     \n",
        "    plt.plot(trainacc_list)\n",
        "    plt.plot(testacc_list)    \n",
        "    plt.title('acc')\n",
        "    plt.xlabel('Epoch')\n",
        "    plt.legend(['Train', 'Test',], loc='upper left')\n",
        "    fig1.savefig(\"./acc.png\")\n",
        "\n",
        "    fig2=plt.figure\n",
        "    plt.plot(trainloss_list)\n",
        "    plt.plot(testloss_list)\n",
        "    plt.title('loss')\n",
        "    plt.xlabel('Epoch')\n",
        "    plt.legend(['Train', 'Test'], loc='upper left')\n",
        "    fig1.savefig(\"./loss.png\")\n",
        "\n",
        "\n",
        "    # plt.plot(testacc_list)\n",
        "    # plt.title('testacc')\n",
        "    # plt.xlabel('Epoch')\n",
        "    # plt.show()\n",
        "\n",
        "    # plt.plot(testloss_list)\n",
        "    # plt.title('testloss')\n",
        "    # plt.xlabel('Epoch')\n",
        "    # plt.show()\n",
        "\n",
        "\n",
        "\n",
        "    return -max\n",
        "\n",
        "def test(model):\n",
        "    optimizer = tf.optimizers.Adam(\n",
        "          learning_rate=learning_rate\n",
        "          # , decay=0.000003\n",
        "      )\n",
        "\n",
        "    model.compile(\n",
        "        optimizer=optimizer,\n",
        "        loss='binary_crossentropy',\n",
        "        metrics=[\n",
        "            keras.metrics.binary_accuracy\n",
        "            # keras.metrics.SparseTopKCategoricalAccuracy(5, name=\"top-5-accuracy\"),\n",
        "        ],\n",
        "    )\n",
        "    model.summary()\n",
        "    model.load_weights(weights_path)\n",
        "    max = 0\n",
        "    for i in range(2):\n",
        "        testdataset = tf.data.TFRecordDataset(output_path2 + str(i+1)+'.tfrecords').map(deserialize_example).batch(100000)\n",
        "\n",
        "        for data in testdataset:\n",
        "            # head = np.zeros([len(data[0]),1,36,1])\n",
        "            # x_head = np.concatenate([head, data[0]],axis=1)\n",
        "            # testtesttestx = np.concatenate([testtesttestx, data[0]],axis=0)\n",
        "\n",
        "            # testtesttestx = np.append(testtesttestx,x_head,axis=0)\n",
        "            testtesttestx = np.append(testtesttestx,data[0],axis=0)\n",
        "            testtesttesty = np.concatenate([testtesttesty, data[1]])\n",
        " \n",
        "            \n",
        "        # score = model.evaluate(testtesttestx, [testtesttesty1,testtesttesty2,testtesttesty3,testtesttesty4])\n",
        "        # print(score)\n",
        "    score = model.evaluate(x=testtesttestx,y=testtesttesty,verbose=0)\n",
        "    print(score)\n",
        "    result = model.predict(testtesttestx)\n",
        "        # fpr, tpr, thresholds = roc_curve(y_test, result)\n",
        "    result_1 = [int((s+0.5)//1) for s in result]\n",
        "    report = classification_report(testtesttesty, result_1, digits=4,output_dict=True)\n",
        "    print(report)\n",
        "    weightedf1 = report['1']['f1-score']\n",
        "    \n",
        "    \n",
        "\n",
        "\n",
        "def objective(trial): # 引数 (trial) はTrial型の値\n",
        "    global num_heads \n",
        "    global projection_dim     \n",
        "    global transformer_layers \n",
        "    x_numhead = trial.suggest_int(\"num_head\", 1, 12)\n",
        "    x_dim = trial.suggest_int(\"dim\", 16,128, 8)\n",
        "    x_numlayers = trial.suggest_int(\"num_layers\", 1, 12)\n",
        "    num_heads = x_numhead\n",
        "    #num_heads = 1\n",
        "    projection_dim = x_dim\n",
        "    transformer_layers = x_numlayers\n",
        "    #transformer_layers = 1\n",
        "    # print(num_heads)\n",
        "    # print(projection_dim)    \n",
        "    # print(transformer_layers)\n",
        "    vit_classifier = create_vit_classifier()\n",
        "    wf1 = run_experiment(vit_classifier)\n",
        "    \n",
        "    return wf1\n",
        "    \n",
        "def start():\n",
        "    vit_classifier = create_vit_classifier()\n",
        "    wf1 = run_experiment(vit_classifier)\n",
        "    return wf1\n",
        "#study = optuna.create_study(direction=\"minimize\")\n",
        "#study.optimize(objective, # 目的関数\n",
        "#               n_trials=50 # トライアル数\n",
        "#              )\n",
        "\n",
        "stttttt = start()\n"
      ]
    }
  ],
  "metadata": {
    "accelerator": "GPU",
    "colab": {
      "collapsed_sections": [],
      "name": "mahjong transformer_tenpai_noCLS.ipynb",
      "provenance": [],
      "mount_file_id": "1WttGvogv3KUqmtEmKoHbrvdJ9umQEWXh",
      "authorship_tag": "ABX9TyNSKUBpnvzqVdvAIYllN3Hf",
      "include_colab_link": true
    },
    "kernelspec": {
      "display_name": "Python 3",
      "name": "python3"
    },
    "language_info": {
      "name": "python"
    }
  },
  "nbformat": 4,
  "nbformat_minor": 0
}